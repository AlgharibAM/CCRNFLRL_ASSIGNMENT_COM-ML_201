{
  "nbformat": 4,
  "nbformat_minor": 0,
  "metadata": {
    "colab": {
      "provenance": [],
      "include_colab_link": true
    },
    "kernelspec": {
      "name": "python3",
      "display_name": "Python 3"
    },
    "language_info": {
      "name": "python"
    }
  },
  "cells": [
    {
      "cell_type": "markdown",
      "metadata": {
        "id": "view-in-github",
        "colab_type": "text"
      },
      "source": [
        "<a href=\"https://colab.research.google.com/github/AlgharibAM/CCRNFLRL_ASSIGNMENT_COM-ML_201/blob/main/exercise1.ipynb\" target=\"_parent\"><img src=\"https://colab.research.google.com/assets/colab-badge.svg\" alt=\"Open In Colab\"/></a>"
      ]
    },
    {
      "cell_type": "markdown",
      "source": [
        "## **Exercise 1**"
      ],
      "metadata": {
        "id": "amaGazatyILL"
      }
    },
    {
      "cell_type": "code",
      "execution_count": 1,
      "metadata": {
        "id": "wRWdRKPJQoX8"
      },
      "outputs": [],
      "source": [
        "import numpy as np\n",
        "import matplotlib.pyplot as plt"
      ]
    },
    {
      "cell_type": "code",
      "source": [
        "class SimpleAdvertisement():\n",
        "    \"\"\" Representation of a simple advertisement.\"\"\"\n",
        "    \n",
        "    def __init__(self, p):\n",
        "        \"\"\"\n",
        "        Constructor. Set p value for the binomial distribution\n",
        "        that models user click behavior for this advertisement. \n",
        "        A p-value represents the odds of a click, 0 <= p <= 1.\n",
        "        \"\"\"\n",
        "        self.p = p\n",
        "\n",
        "    def show(self):\n",
        "        \"\"\"\n",
        "        Fictitiously show an advertisement. Return a reward:\n",
        "        either 0 (no click) or 1 (click). Draw just once (n)\n",
        "        and draw successfully (click) with probability p.\n",
        "        \"\"\"\n",
        "        return np.random.binomial(n=1, p=self.p)"
      ],
      "metadata": {
        "id": "fZDm5zxbQpIl"
      },
      "execution_count": 2,
      "outputs": []
    },
    {
      "cell_type": "code",
      "source": [
        "# Generate the advertisements\n",
        "advertisement_one = SimpleAdvertisement(0.01)\n",
        "advertisement_two = SimpleAdvertisement(0.024)\n",
        "advertisement_three = SimpleAdvertisement(0.03)\n",
        "advertisements = [advertisement_one, advertisement_two, advertisement_three]"
      ],
      "metadata": {
        "id": "zsS_mMWFQsC-"
      },
      "execution_count": 3,
      "outputs": []
    },
    {
      "cell_type": "code",
      "source": [
        "# Set the scenario's variables\n",
        "num_tests = 30000 #Exploration\n",
        "num_prod  = 60000  #Exploitation\n",
        "num_ads = len(advertisements)\n",
        "average_rewards_over_time = []\n",
        "N_impres = np.zeros(num_ads, dtype=int)\n",
        "Q_values = np.zeros(num_ads)\n",
        "reward_sum = 0"
      ],
      "metadata": {
        "id": "9ArIVGYbQtMg"
      },
      "execution_count": 4,
      "outputs": []
    },
    {
      "cell_type": "code",
      "source": [
        "#Exploration Phase\n",
        "def a_b_n_test(num_test, ads):\n",
        "    \"\"\" Run A/B/n testing phase. \"\"\"\n",
        "    global reward_sum\n",
        "    # Iterate over the test range.\n",
        "    for test in range(num_test):\n",
        "        # Pick an advertisement at random.\n",
        "        chosen_ad_idx = np.random.randint(len(ads))\n",
        "        chosen_ad = ads[chosen_ad_idx]\n",
        "        # Observe reward for advertisement [click = 1, no click = 0]\n",
        "        reward = chosen_ad.show()\n",
        "        # Increase counter for ad and Q/action value\n",
        "        N_impres[chosen_ad_idx] = N_impres[chosen_ad_idx] + 1\n",
        "        Q_values[chosen_ad_idx] += (1 / N_impres[chosen_ad_idx]) * (reward- Q_values[chosen_ad_idx])\n",
        "        # Increase total reward\n",
        "        reward_sum += reward\n",
        "        average_reward_so_far = reward_sum / (test + 1)\n",
        "        average_rewards_over_time.append(average_reward_so_far)"
      ],
      "metadata": {
        "id": "yIipbyV4Q2d8"
      },
      "execution_count": 5,
      "outputs": []
    },
    {
      "cell_type": "code",
      "source": [
        "#Exploitation Phase\n",
        "def a_b_n_prod(num_prod, best_ad):\n",
        "    \"\"\" Run the best ad in production. \"\"\"\n",
        "    global reward_sum\n",
        "    # Iterate over the test range.\n",
        "    for prod in range(num_prod):\n",
        "        # Observe reward for advertisement [click = 1, no click = 0]\n",
        "        reward = best_ad.show()\n",
        "        # Increase total reward\n",
        "        reward_sum += reward\n",
        "        average_reward_so_far = reward_sum / (prod + num_tests + 1)\n",
        "        average_rewards_over_time.append(average_reward_so_far)"
      ],
      "metadata": {
        "id": "7zoDaisPQ7Hp"
      },
      "execution_count": 6,
      "outputs": []
    },
    {
      "cell_type": "code",
      "source": [
        "def plot_phases(selected_ad, selected_ad_score):\n",
        "    \"\"\"\n",
        "    Plot the reward for the exploration and exploitation phases.\n",
        "    \"\"\"\n",
        "    plt.plot(average_rewards_over_time)\n",
        "    plt.axvline(x=num_tests, linestyle='--', color='gray') # Plot vertical line at cutoff for exploration\n",
        "    plt.text(num_tests-6000, 0, 'Exploration', color='gray')\n",
        "    plt.text(num_tests+2000, 0, 'Exploitation', color='gray')\n",
        "    plt.title(f\"Average reward over time - Selected ad {selected_ad + 1} (score: {selected_ad_score}) - Best ad: 3 (score: 0.03)\")\n",
        "    plt.show()"
      ],
      "metadata": {
        "id": "dTzQKRUYQ8RJ"
      },
      "execution_count": 7,
      "outputs": []
    },
    {
      "cell_type": "code",
      "source": [
        "def ad_scenario():\n",
        "    \"\"\"\n",
        "    Run an advertisement based A/B/n Multi-Armed Bandit scenario.\n",
        "    Select the best out of three ads, specified above, then run\n",
        "    in production. The proper ad was chosen if the average reward\n",
        "    over time approximates the highest p value (0.03) chosen \n",
        "    with the advertisements at the top of this code.\n",
        "    \"\"\"\n",
        "    # 1. Run A/B/n test (exploration) on advertisements\n",
        "    a_b_n_test(num_tests, advertisements)\n",
        "    # 2. Pick best ad after testing\n",
        "    best_ad_index = np.argmax(Q_values)\n",
        "    print(\"=\"*50)\n",
        "    print(f\"Best-performing advertisement after exploration is Ad {best_ad_index+1}\")\n",
        "    print(\"=\"*50)\n",
        "    print(f\"Score board:\")\n",
        "    for i in range(len(advertisements)):\n",
        "        print(f\"> Ad {i+1} - {Q_values[i]}\")\n",
        "    print(\"=\"*50)\n",
        "    # 3. Run the ad in production\n",
        "    a_b_n_prod(num_prod, advertisements[best_ad_index])\n",
        "    # 4. Print overall ad performance\n",
        "    print(f\"Global average reward over time: {average_rewards_over_time[-1]}\")\n",
        "    print(\"=\"*50)\n",
        "    # 5. Plot the performance\n",
        "    plot_phases(best_ad_index, Q_values[best_ad_index])\n",
        "\n",
        "\n",
        "\n",
        "if __name__ == '__main__':\n",
        "    ad_scenario()"
      ],
      "metadata": {
        "colab": {
          "base_uri": "https://localhost:8080/",
          "height": 626
        },
        "id": "gWfCIKU1RBlo",
        "outputId": "ddb8619f-3449-4796-8bbd-b3913f1d1ca1"
      },
      "execution_count": 8,
      "outputs": [
        {
          "output_type": "stream",
          "name": "stdout",
          "text": [
            "==================================================\n",
            "Best-performing advertisement after exploration is Ad 3\n",
            "==================================================\n",
            "Score board:\n",
            "> Ad 1 - 0.009893074847606688\n",
            "> Ad 2 - 0.02569765107408155\n",
            "> Ad 3 - 0.028910377828730988\n",
            "==================================================\n",
            "Global average reward over time: 0.027433333333333334\n",
            "==================================================\n"
          ]
        },
        {
          "output_type": "display_data",
          "data": {
            "text/plain": [
              "<Figure size 640x480 with 1 Axes>"
            ],
            "image/png": "[encoded data removed]"
          },
          "metadata": {}
        }
      ]
    }
  ]
}